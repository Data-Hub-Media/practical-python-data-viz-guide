{
 "cells": [
  {
   "cell_type": "markdown",
   "metadata": {},
   "source": [
    "# Practical Data Visualization with Python\n",
    "\n",
    "By: [Paul Jeffries](https://twitter.com/ByPaulJ)\n",
    "\n",
    "## Why We Visualize\n",
    "\n",
    "1. The power of visual data representation and storytelling. \n",
    "2. A few principles and heuristics of visualization.\n",
    "\n",
    "## Overview of Python Visualization Landscape\n",
    "\n",
    "1. Intro to the visualization ecosystem: python's Tower of Babel.\n",
    "2. Smorgasbord of packages explored through a single example viz.\n",
    "3. Quick & dirty (and subjective) heuristics for picking a visualization package.\n",
    "\n",
    "## Statistical Visualization in the Wild\n",
    "\n",
    "1. Example business use case of data visualization: debt-to-income ratios explored.\n",
    "    1. Observational:\n",
    "        - mean, median, and variance\n",
    "        - distributions\n",
    "    2. Inferential:\n",
    "        - two-sample t-test\n",
    "        - KS test\n",
    "\n",
    "## Library Deep-Dive (Plotly)\n",
    "\n",
    "1. Quick and simple data visualizations with Plotly Express.\n",
    "    - Colors, facets, etc.\n",
    "2. Additional control and complexity with base Plotly.\n",
    "    - Choropleth maps \n",
    "    - Heatmaps "
   ]
  },
  {
   "cell_type": "code",
   "execution_count": 8,
   "metadata": {},
   "outputs": [],
   "source": [
    "# basic packages\n",
    "import numpy as np\n",
    "import pandas as pd\n",
    "import datetime\n",
    "\n",
    "# convenience packages\n",
    "from janitor import clean_names, remove_empty"
   ]
  },
  {
   "cell_type": "code",
   "execution_count": 9,
   "metadata": {},
   "outputs": [
    {
     "data": {
      "text/plain": [
       "'This notebook was last executed on 2019-07-04 16:04'"
      ]
     },
     "execution_count": 9,
     "metadata": {},
     "output_type": "execute_result"
    }
   ],
   "source": [
    "# store the datetime of the most recent running of this notebook as a form of a log\n",
    "most_recent_run_datetime = datetime.datetime.now().strftime(\"%Y-%m-%d %H:%M\")\n",
    "f\"This notebook was last executed on {most_recent_run_datetime}\""
   ]
  }
 ],
 "metadata": {
  "kernelspec": {
   "display_name": "Python 3",
   "language": "python",
   "name": "python3"
  },
  "language_info": {
   "codemirror_mode": {
    "name": "ipython",
    "version": 3
   },
   "file_extension": ".py",
   "mimetype": "text/x-python",
   "name": "python",
   "nbconvert_exporter": "python",
   "pygments_lexer": "ipython3",
   "version": "3.7.0"
  }
 },
 "nbformat": 4,
 "nbformat_minor": 2
}
